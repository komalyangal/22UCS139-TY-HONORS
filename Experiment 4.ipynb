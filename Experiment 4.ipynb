{
 "cells": [
  {
   "cell_type": "code",
   "execution_count": 1,
   "id": "c28e82a2-8398-4823-beed-08861feec533",
   "metadata": {},
   "outputs": [],
   "source": [
    "import numpy as np"
   ]
  },
  {
   "cell_type": "code",
   "execution_count": 7,
   "id": "5bfbef01-34bf-4ebe-ac7f-74b8db0c314a",
   "metadata": {},
   "outputs": [],
   "source": [
    "array1=np.array([[1,2,3,4],[2,2,3,4],[5,6,7,8]])"
   ]
  },
  {
   "cell_type": "code",
   "execution_count": 9,
   "id": "335464fa-2cd7-4eb1-92c7-ddea3fb1d90a",
   "metadata": {},
   "outputs": [
    {
     "name": "stdout",
     "output_type": "stream",
     "text": [
      "[[1 2 3 4]\n",
      " [2 2 3 4]\n",
      " [5 6 7 8]]\n"
     ]
    }
   ],
   "source": [
    "print(array1)"
   ]
  },
  {
   "cell_type": "code",
   "execution_count": 11,
   "id": "1ded31db-20b5-4eee-b5bf-36adbecc78f0",
   "metadata": {},
   "outputs": [
    {
     "name": "stdout",
     "output_type": "stream",
     "text": [
      "2\n"
     ]
    }
   ],
   "source": [
    "print(array1[0,1])"
   ]
  },
  {
   "cell_type": "code",
   "execution_count": 13,
   "id": "924cc216-4277-4116-9fb5-102fbf280ef2",
   "metadata": {},
   "outputs": [
    {
     "name": "stdout",
     "output_type": "stream",
     "text": [
      "4\n"
     ]
    }
   ],
   "source": [
    "print(array1[0,3])"
   ]
  },
  {
   "cell_type": "code",
   "execution_count": 15,
   "id": "2986671d-bac8-42bf-bc9c-cb894a10996f",
   "metadata": {},
   "outputs": [
    {
     "name": "stdout",
     "output_type": "stream",
     "text": [
      "47\n"
     ]
    }
   ],
   "source": [
    "print(np.sum(array1))"
   ]
  },
  {
   "cell_type": "code",
   "execution_count": 31,
   "id": "a6837432-60ff-4e45-a1f2-35dc85f330fa",
   "metadata": {},
   "outputs": [
    {
     "name": "stdout",
     "output_type": "stream",
     "text": [
      "[2.5  2.75 6.5 ]\n"
     ]
    }
   ],
   "source": [
    "print(np.mean(array1,axis=1))"
   ]
  },
  {
   "cell_type": "code",
   "execution_count": 70,
   "id": "a1c08b2f-dd6c-45f2-9358-d019abcdde6e",
   "metadata": {},
   "outputs": [
    {
     "data": {
      "text/plain": [
       "array([[33,  3],\n",
       "       [ 3, 79],\n",
       "       [ 2,  3]])"
      ]
     },
     "execution_count": 70,
     "metadata": {},
     "output_type": "execute_result"
    }
   ],
   "source": [
    "array2=np.array([[33,3],[3,79],[2,3]])\n",
    "array2"
   ]
  },
  {
   "cell_type": "code",
   "execution_count": 80,
   "id": "d1da113f-a56d-4b1a-839a-cd3b1dad7f90",
   "metadata": {},
   "outputs": [
    {
     "data": {
      "text/plain": [
       "array([[1, 2],\n",
       "       [3, 4],\n",
       "       [5, 6]])"
      ]
     },
     "execution_count": 80,
     "metadata": {},
     "output_type": "execute_result"
    }
   ],
   "source": [
    "array3=np.array([[1,2],[3,4],[5,6]])\n",
    "array3"
   ]
  },
  {
   "cell_type": "code",
   "execution_count": 86,
   "id": "be0db3e6-ad9f-4e1b-bd23-894d8a6ed47d",
   "metadata": {},
   "outputs": [
    {
     "data": {
      "text/plain": [
       "array([[ 39, 111, 183],\n",
       "       [161, 325, 489],\n",
       "       [  8,  18,  28]])"
      ]
     },
     "execution_count": 86,
     "metadata": {},
     "output_type": "execute_result"
    }
   ],
   "source": [
    "np.dot(array2,array3.T)"
   ]
  },
  {
   "cell_type": "code",
   "execution_count": null,
   "id": "7dd6cbb8-1190-4ecc-b4ad-22001f98554a",
   "metadata": {},
   "outputs": [],
   "source": []
  },
  {
   "cell_type": "code",
   "execution_count": null,
   "id": "c29cf5c1-2258-4e49-8d1a-401bc63486f5",
   "metadata": {},
   "outputs": [],
   "source": []
  }
 ],
 "metadata": {
  "kernelspec": {
   "display_name": "Python 3 (ipykernel)",
   "language": "python",
   "name": "python3"
  },
  "language_info": {
   "codemirror_mode": {
    "name": "ipython",
    "version": 3
   },
   "file_extension": ".py",
   "mimetype": "text/x-python",
   "name": "python",
   "nbconvert_exporter": "python",
   "pygments_lexer": "ipython3",
   "version": "3.12.4"
  }
 },
 "nbformat": 4,
 "nbformat_minor": 5
}
