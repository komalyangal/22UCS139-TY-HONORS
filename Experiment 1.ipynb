{
 "cells": [
  {
   "cell_type": "code",
   "execution_count": 3,
   "id": "7d383de8-e787-4b2f-82b8-601f7173e410",
   "metadata": {},
   "outputs": [],
   "source": [
    "import numpy as np\n",
    "import array as arr\n"
   ]
  },
  {
   "cell_type": "code",
   "execution_count": 17,
   "id": "999eeffc-c690-4d72-bbce-388a31de4bd0",
   "metadata": {},
   "outputs": [
    {
     "data": {
      "text/plain": [
       "array('i', [1, 2, 3, 4, 5])"
      ]
     },
     "execution_count": 17,
     "metadata": {},
     "output_type": "execute_result"
    }
   ],
   "source": [
    "array1=arr.array('i',[1,2,3,4,5])\n",
    "array1"
   ]
  },
  {
   "cell_type": "code",
   "execution_count": 29,
   "id": "64317c5e-7379-4ec3-8d50-cbf60698f9b2",
   "metadata": {},
   "outputs": [
    {
     "name": "stdout",
     "output_type": "stream",
     "text": [
      "1\n",
      "2\n",
      "3\n",
      "4\n",
      "5\n"
     ]
    }
   ],
   "source": [
    "for element in array1:\n",
    "    print(element)\n"
   ]
  },
  {
   "cell_type": "code",
   "execution_count": 31,
   "id": "76b903b2-05f6-4392-b513-0fe20cfb3329",
   "metadata": {},
   "outputs": [],
   "source": [
    "numpy_array=np.array([1,2,3])"
   ]
  },
  {
   "cell_type": "code",
   "execution_count": 39,
   "id": "1aa50456-4773-4d97-845d-9dc81bf60e58",
   "metadata": {},
   "outputs": [
    {
     "name": "stdout",
     "output_type": "stream",
     "text": [
      "[1 2 3]\n"
     ]
    }
   ],
   "source": [
    "print(numpy_array)\n"
   ]
  },
  {
   "cell_type": "code",
   "execution_count": 41,
   "id": "8b324109-95e9-4b10-974e-1545794bb462",
   "metadata": {},
   "outputs": [],
   "source": [
    "numpy_array1=np.array([[1,2,3],[4,5,6],[7,8,9]])"
   ]
  },
  {
   "cell_type": "code",
   "execution_count": 43,
   "id": "3e9eccaf-55d0-46d9-8479-0776ec9897e9",
   "metadata": {},
   "outputs": [
    {
     "data": {
      "text/plain": [
       "array([[1, 2, 3],\n",
       "       [4, 5, 6],\n",
       "       [7, 8, 9]])"
      ]
     },
     "execution_count": 43,
     "metadata": {},
     "output_type": "execute_result"
    }
   ],
   "source": [
    "numpy_array1"
   ]
  },
  {
   "cell_type": "code",
   "execution_count": 51,
   "id": "0b5604e9-2ca2-41c9-8599-3fa8be5e151a",
   "metadata": {},
   "outputs": [
    {
     "data": {
      "text/plain": [
       "array([0., 0., 0.])"
      ]
     },
     "execution_count": 51,
     "metadata": {},
     "output_type": "execute_result"
    }
   ],
   "source": [
    "zero_array=np.zeros(3)\n",
    "zero_array"
   ]
  },
  {
   "cell_type": "code",
   "execution_count": 53,
   "id": "ea78a059-92fa-415e-a29d-d7bb855b2ddf",
   "metadata": {},
   "outputs": [
    {
     "data": {
      "text/plain": [
       "array([1., 1., 1.])"
      ]
     },
     "execution_count": 53,
     "metadata": {},
     "output_type": "execute_result"
    }
   ],
   "source": [
    "ones_array=np.ones(3)\n",
    "ones_array"
   ]
  },
  {
   "cell_type": "code",
   "execution_count": 61,
   "id": "40ea527e-c6af-443b-9eab-8944cfda6043",
   "metadata": {},
   "outputs": [
    {
     "data": {
      "text/plain": [
       "array([1, 3, 5, 7, 9])"
      ]
     },
     "execution_count": 61,
     "metadata": {},
     "output_type": "execute_result"
    }
   ],
   "source": [
    "range=np.arange(1,10,2)\n",
    "range"
   ]
  },
  {
   "cell_type": "code",
   "execution_count": 71,
   "id": "7c0e6878-b074-452b-8b91-26f6e2d8c9cd",
   "metadata": {},
   "outputs": [
    {
     "name": "stdout",
     "output_type": "stream",
     "text": [
      "[[0.99659476 0.89862225 0.0901214 ]\n",
      " [0.82285274 0.26704568 0.48839189]]\n"
     ]
    }
   ],
   "source": [
    "random=np.random.rand(2,3)\n",
    "print(random)"
   ]
  },
  {
   "cell_type": "code",
   "execution_count": null,
   "id": "8623beb3-1ea4-4e48-872b-27c015cf77f9",
   "metadata": {},
   "outputs": [],
   "source": []
  }
 ],
 "metadata": {
  "kernelspec": {
   "display_name": "Python 3 (ipykernel)",
   "language": "python",
   "name": "python3"
  },
  "language_info": {
   "codemirror_mode": {
    "name": "ipython",
    "version": 3
   },
   "file_extension": ".py",
   "mimetype": "text/x-python",
   "name": "python",
   "nbconvert_exporter": "python",
   "pygments_lexer": "ipython3",
   "version": "3.12.4"
  }
 },
 "nbformat": 4,
 "nbformat_minor": 5
}
