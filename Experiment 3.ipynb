{
 "cells": [
  {
   "cell_type": "code",
   "execution_count": 1,
   "id": "708ef375-b5f3-4675-ad8d-13232aa1b64a",
   "metadata": {},
   "outputs": [],
   "source": [
    "import numpy as np"
   ]
  },
  {
   "cell_type": "code",
   "execution_count": 34,
   "id": "23f355ba-429e-4123-bd57-94e59abd2070",
   "metadata": {},
   "outputs": [
    {
     "data": {
      "text/plain": [
       "array([1, 2, 3, 4, 5])"
      ]
     },
     "execution_count": 34,
     "metadata": {},
     "output_type": "execute_result"
    }
   ],
   "source": [
    "array1=np.array([1,2,3,4,5])\n",
    "array1"
   ]
  },
  {
   "cell_type": "code",
   "execution_count": 36,
   "id": "0e6c0001-d456-4b44-b6fc-f23894aed767",
   "metadata": {},
   "outputs": [
    {
     "data": {
      "text/plain": [
       "5"
      ]
     },
     "execution_count": 36,
     "metadata": {},
     "output_type": "execute_result"
    }
   ],
   "source": [
    "array1.max()"
   ]
  },
  {
   "cell_type": "code",
   "execution_count": 38,
   "id": "fe261af4-79e2-4f07-9f3e-112becda8ca0",
   "metadata": {},
   "outputs": [
    {
     "data": {
      "text/plain": [
       "1"
      ]
     },
     "execution_count": 38,
     "metadata": {},
     "output_type": "execute_result"
    }
   ],
   "source": [
    "array1.min()"
   ]
  },
  {
   "cell_type": "code",
   "execution_count": 40,
   "id": "e9f620f8-ba73-46a0-acb6-424f745db696",
   "metadata": {},
   "outputs": [
    {
     "data": {
      "text/plain": [
       "nan"
      ]
     },
     "execution_count": 40,
     "metadata": {},
     "output_type": "execute_result"
    }
   ],
   "source": [
    "nan_val=np.nan\n",
    "nan_val"
   ]
  },
  {
   "cell_type": "code",
   "execution_count": 45,
   "id": "15a8b79c-a939-4d21-bb6d-30982d250ac2",
   "metadata": {},
   "outputs": [
    {
     "data": {
      "text/plain": [
       "array([[[1, 2, 3],\n",
       "        [4, 5, 6],\n",
       "        [7, 8, 9]]])"
      ]
     },
     "execution_count": 45,
     "metadata": {},
     "output_type": "execute_result"
    }
   ],
   "source": [
    "number=np.array([[[1,2,3],[4,5,6],[7,8,9]]])\n",
    "number"
   ]
  },
  {
   "cell_type": "code",
   "execution_count": 49,
   "id": "bb285884-f845-41c3-855d-253a62ee88c1",
   "metadata": {},
   "outputs": [],
   "source": [
    "sum=np.sum(number)"
   ]
  },
  {
   "cell_type": "code",
   "execution_count": 51,
   "id": "6d86b917-a889-4330-8e82-f1b69c99d6f3",
   "metadata": {},
   "outputs": [
    {
     "data": {
      "text/plain": [
       "45"
      ]
     },
     "execution_count": 51,
     "metadata": {},
     "output_type": "execute_result"
    }
   ],
   "source": [
    "sum"
   ]
  },
  {
   "cell_type": "code",
   "execution_count": 53,
   "id": "858f7829-915e-4552-8b44-9b328accd35a",
   "metadata": {},
   "outputs": [],
   "source": [
    "avg=np.mean(array1)"
   ]
  },
  {
   "cell_type": "code",
   "execution_count": 55,
   "id": "913e598c-55fe-4934-8af1-9cc2cc81a768",
   "metadata": {},
   "outputs": [
    {
     "data": {
      "text/plain": [
       "3.0"
      ]
     },
     "execution_count": 55,
     "metadata": {},
     "output_type": "execute_result"
    }
   ],
   "source": [
    "avg"
   ]
  },
  {
   "cell_type": "code",
   "execution_count": 65,
   "id": "1aa9add8-3439-48e3-a518-6069689c971c",
   "metadata": {},
   "outputs": [],
   "source": [
    "avg1=np.mean(number)"
   ]
  },
  {
   "cell_type": "code",
   "execution_count": 67,
   "id": "b58f96d0-8c43-4ea8-8cf8-1c11960a39e2",
   "metadata": {},
   "outputs": [
    {
     "data": {
      "text/plain": [
       "5.0"
      ]
     },
     "execution_count": 67,
     "metadata": {},
     "output_type": "execute_result"
    }
   ],
   "source": [
    "avg1"
   ]
  },
  {
   "cell_type": "code",
   "execution_count": 69,
   "id": "5a1c3888-bc0b-4bdd-b2ca-daa5bbba154a",
   "metadata": {},
   "outputs": [
    {
     "data": {
      "text/plain": [
       "numpy.ndarray"
      ]
     },
     "execution_count": 69,
     "metadata": {},
     "output_type": "execute_result"
    }
   ],
   "source": [
    "type(number)"
   ]
  },
  {
   "cell_type": "code",
   "execution_count": 71,
   "id": "5627b02e-81c3-47e6-8adc-a202ead89ebb",
   "metadata": {},
   "outputs": [
    {
     "data": {
      "text/plain": [
       "numpy.float64"
      ]
     },
     "execution_count": 71,
     "metadata": {},
     "output_type": "execute_result"
    }
   ],
   "source": [
    "type(avg)"
   ]
  },
  {
   "cell_type": "code",
   "execution_count": null,
   "id": "b95818be-9501-4024-a63e-a24cb14c49f5",
   "metadata": {},
   "outputs": [],
   "source": []
  }
 ],
 "metadata": {
  "kernelspec": {
   "display_name": "Python 3 (ipykernel)",
   "language": "python",
   "name": "python3"
  },
  "language_info": {
   "codemirror_mode": {
    "name": "ipython",
    "version": 3
   },
   "file_extension": ".py",
   "mimetype": "text/x-python",
   "name": "python",
   "nbconvert_exporter": "python",
   "pygments_lexer": "ipython3",
   "version": "3.12.4"
  }
 },
 "nbformat": 4,
 "nbformat_minor": 5
}
