{
 "cells": [
  {
   "cell_type": "code",
   "execution_count": 1,
   "id": "0ddbd9de-317b-4a21-be74-931d1846a68d",
   "metadata": {},
   "outputs": [],
   "source": [
    "import numpy as np\n"
   ]
  },
  {
   "cell_type": "code",
   "execution_count": 3,
   "id": "f11279a7-8215-4162-87ab-831a8c9c5be5",
   "metadata": {},
   "outputs": [],
   "source": [
    "array1=np.array([1,2,-3,5,-6,7])"
   ]
  },
  {
   "cell_type": "code",
   "execution_count": 5,
   "id": "24525e17-bd45-4775-a56d-a6d211898286",
   "metadata": {},
   "outputs": [
    {
     "data": {
      "text/plain": [
       "array([ 1,  2, -3,  5, -6,  7])"
      ]
     },
     "execution_count": 5,
     "metadata": {},
     "output_type": "execute_result"
    }
   ],
   "source": [
    "array1"
   ]
  },
  {
   "cell_type": "code",
   "execution_count": 11,
   "id": "1d31f822-02c0-4706-956f-289d4aa9c850",
   "metadata": {},
   "outputs": [
    {
     "data": {
      "text/plain": [
       "array([-1, -2,  3, -5,  6, -7])"
      ]
     },
     "execution_count": 11,
     "metadata": {},
     "output_type": "execute_result"
    }
   ],
   "source": [
    "negation=-array1\n",
    "negation"
   ]
  },
  {
   "cell_type": "code",
   "execution_count": 13,
   "id": "8c8f7add-c6a8-44fb-84c8-dd60633ac942",
   "metadata": {},
   "outputs": [
    {
     "name": "stdout",
     "output_type": "stream",
     "text": [
      "Absolute value: [1 2 3 5 6 7]\n"
     ]
    }
   ],
   "source": [
    "print(\"Absolute value:\",np.abs(array1))"
   ]
  },
  {
   "cell_type": "code",
   "execution_count": 23,
   "id": "1ceb30b0-5e59-4611-a807-6d0c4068cbc0",
   "metadata": {},
   "outputs": [
    {
     "name": "stdout",
     "output_type": "stream",
     "text": [
      "Square root of each element:\n",
      " [1.         1.41421356        nan 2.23606798        nan 2.64575131]\n"
     ]
    },
    {
     "name": "stderr",
     "output_type": "stream",
     "text": [
      "C:\\Users\\komal\\AppData\\Local\\Temp\\ipykernel_21436\\3245920461.py:1: RuntimeWarning: invalid value encountered in sqrt\n",
      "  sq=np.sqrt(array1)\n"
     ]
    }
   ],
   "source": [
    "sq=np.sqrt(array1)\n",
    "print(\"Square root of each element:\\n\",sq)\n"
   ]
  },
  {
   "cell_type": "code",
   "execution_count": 21,
   "id": "db420b6f-f8e5-46cc-8969-842415437681",
   "metadata": {},
   "outputs": [
    {
     "name": "stdout",
     "output_type": "stream",
     "text": [
      "Exponential value for each element:\n",
      " [2.71828183e+00 7.38905610e+00 4.97870684e-02 1.48413159e+02\n",
      " 2.47875218e-03 1.09663316e+03]\n"
     ]
    }
   ],
   "source": [
    "print(\"Exponential value for each element:\\n\",np.exp(array1))"
   ]
  },
  {
   "cell_type": "code",
   "execution_count": 25,
   "id": "c6489de1-d21a-49a6-a233-3cb1df4d7abb",
   "metadata": {},
   "outputs": [
    {
     "name": "stdout",
     "output_type": "stream",
     "text": [
      "Sine value:\n",
      " [ 0.84147098  0.90929743 -0.14112001 -0.95892427  0.2794155   0.6569866 ]\n"
     ]
    }
   ],
   "source": [
    "print(\"Sine value:\\n\",np.sin(array1))"
   ]
  },
  {
   "cell_type": "code",
   "execution_count": 27,
   "id": "e7260170-9d8f-4356-a74a-9fa9e49583f0",
   "metadata": {},
   "outputs": [
    {
     "name": "stdout",
     "output_type": "stream",
     "text": [
      "Cos value:\n",
      " [ 0.54030231 -0.41614684 -0.9899925   0.28366219  0.96017029  0.75390225]\n"
     ]
    }
   ],
   "source": [
    "print(\"Cos value:\\n\",np.cos(array1))"
   ]
  },
  {
   "cell_type": "code",
   "execution_count": 29,
   "id": "43f6e241-8e94-47b3-8f55-813345acbc31",
   "metadata": {},
   "outputs": [
    {
     "name": "stdout",
     "output_type": "stream",
     "text": [
      "Tan value:\n",
      " [ 1.55740772 -2.18503986  0.14254654 -3.38051501  0.29100619  0.87144798]\n"
     ]
    }
   ],
   "source": [
    "print(\"Tan value:\\n\",np.tan(array1))"
   ]
  },
  {
   "cell_type": "code",
   "execution_count": 37,
   "id": "492da018-7561-4fed-8485-646e92ccfb81",
   "metadata": {},
   "outputs": [
    {
     "data": {
      "text/plain": [
       "array([6, 7, 8, 9, 1, 2])"
      ]
     },
     "execution_count": 37,
     "metadata": {},
     "output_type": "execute_result"
    }
   ],
   "source": [
    "array2=np.array([6,7,8,9,1,2])\n",
    "array2"
   ]
  },
  {
   "cell_type": "code",
   "execution_count": 39,
   "id": "fb6a890d-494b-4d5d-8118-5efcc249a38e",
   "metadata": {},
   "outputs": [
    {
     "name": "stdout",
     "output_type": "stream",
     "text": [
      "Addition of two array is:\n",
      " [ 7  9  5 14 -5  9]\n"
     ]
    }
   ],
   "source": [
    "print(\"Addition of two array is:\\n\",array1+array2)"
   ]
  },
  {
   "cell_type": "code",
   "execution_count": 41,
   "id": "6dc04e9d-88af-478a-9710-0811ce9d191f",
   "metadata": {},
   "outputs": [
    {
     "name": "stdout",
     "output_type": "stream",
     "text": [
      "Substtraction of two array is:\n",
      " [ -5  -5 -11  -4  -7   5]\n"
     ]
    }
   ],
   "source": [
    "print(\"Substtraction of two array is:\\n\",array1-array2)\n"
   ]
  },
  {
   "cell_type": "code",
   "execution_count": 43,
   "id": "3f4c2e76-0d4c-4a98-b845-ba80975c2ca3",
   "metadata": {},
   "outputs": [
    {
     "name": "stdout",
     "output_type": "stream",
     "text": [
      "Multiplication of two array is:\n",
      " [  6  14 -24  45  -6  14]\n"
     ]
    }
   ],
   "source": [
    "print(\"Multiplication of two array is:\\n\",array1*array2)\n"
   ]
  },
  {
   "cell_type": "code",
   "execution_count": 47,
   "id": "78443fae-284f-45c8-84a5-b2089c50c378",
   "metadata": {},
   "outputs": [
    {
     "name": "stdout",
     "output_type": "stream",
     "text": [
      "Division of two array is:\n",
      " [ 6.          3.5        -2.66666667  1.8        -0.16666667  0.28571429]\n"
     ]
    }
   ],
   "source": [
    "print(\"Division of two array is:\\n\",array2/array1)\n"
   ]
  },
  {
   "cell_type": "code",
   "execution_count": 49,
   "id": "72744b91-6551-414b-ad4b-984cf576f3dd",
   "metadata": {},
   "outputs": [
    {
     "name": "stdout",
     "output_type": "stream",
     "text": [
      "Modulus of two array is:\n",
      " [1 2 5 5 0 1]\n"
     ]
    }
   ],
   "source": [
    "print(\"Modulus of two array is:\\n\",array1%array2)\n"
   ]
  },
  {
   "cell_type": "code",
   "execution_count": 51,
   "id": "e2a9c221-5235-4526-a2f3-dfb540fd602a",
   "metadata": {},
   "outputs": [
    {
     "name": "stdout",
     "output_type": "stream",
     "text": [
      "power of two array is:\n",
      " [      1     128    6561 1953125      -6      49]\n"
     ]
    }
   ],
   "source": [
    "print(\"power of two array is:\\n\",array1**array2)\n"
   ]
  },
  {
   "cell_type": "code",
   "execution_count": 53,
   "id": "405aed9f-1df7-4823-ba82-08dcd74fa44d",
   "metadata": {},
   "outputs": [
    {
     "name": "stdout",
     "output_type": "stream",
     "text": [
      "Bitwise AND operator:\n",
      " [0 2 8 1 0 2]\n"
     ]
    }
   ],
   "source": [
    "print(\"Bitwise AND operator:\\n\",np.bitwise_and(array1,array2))\n"
   ]
  },
  {
   "cell_type": "code",
   "execution_count": 55,
   "id": "886d88f7-a724-44d2-898a-5aa05a7aa033",
   "metadata": {},
   "outputs": [
    {
     "name": "stdout",
     "output_type": "stream",
     "text": [
      "Bitwise OR operator:\n",
      " [ 7  7 -3 13 -5  7]\n"
     ]
    }
   ],
   "source": [
    "print(\"Bitwise OR operator:\\n\",np.bitwise_or(array1,array2))"
   ]
  },
  {
   "cell_type": "code",
   "execution_count": 59,
   "id": "79f424ac-b7a2-47b5-90f9-193ac734eba2",
   "metadata": {},
   "outputs": [
    {
     "name": "stdout",
     "output_type": "stream",
     "text": [
      "Bitwise NOT operator:\n",
      " [-2 -3  2 -6  5 -8]\n"
     ]
    }
   ],
   "source": [
    "print(\"Bitwise NOT operator:\\n\",np.invert(array1))"
   ]
  },
  {
   "cell_type": "code",
   "execution_count": 61,
   "id": "59f96164-fd8b-4895-af61-a8255e3826fa",
   "metadata": {},
   "outputs": [
    {
     "name": "stdout",
     "output_type": "stream",
     "text": [
      "Left shift by 1:\n",
      " [  2   4  -6  10 -12  14]\n"
     ]
    }
   ],
   "source": [
    "print(\"Left shift by 1:\\n\",np.left_shift(array1,1))"
   ]
  },
  {
   "cell_type": "code",
   "execution_count": 63,
   "id": "84e1baf9-877b-49db-8961-b4e200b9c4ce",
   "metadata": {},
   "outputs": [
    {
     "name": "stdout",
     "output_type": "stream",
     "text": [
      "Rigth shift by 1:\n",
      " [ 0  1 -2  2 -3  3]\n"
     ]
    }
   ],
   "source": [
    "print(\"Rigth shift by 1:\\n\",np.right_shift(array1,1))"
   ]
  },
  {
   "cell_type": "code",
   "execution_count": null,
   "id": "0126474c-a247-4070-91d8-cce87535af4d",
   "metadata": {},
   "outputs": [],
   "source": []
  }
 ],
 "metadata": {
  "kernelspec": {
   "display_name": "Python 3 (ipykernel)",
   "language": "python",
   "name": "python3"
  },
  "language_info": {
   "codemirror_mode": {
    "name": "ipython",
    "version": 3
   },
   "file_extension": ".py",
   "mimetype": "text/x-python",
   "name": "python",
   "nbconvert_exporter": "python",
   "pygments_lexer": "ipython3",
   "version": "3.12.4"
  }
 },
 "nbformat": 4,
 "nbformat_minor": 5
}
